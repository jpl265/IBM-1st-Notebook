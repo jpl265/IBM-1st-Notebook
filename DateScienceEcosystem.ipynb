{
 "cells": [
  {
   "cell_type": "markdown",
   "id": "20c23a25-f6a9-4f04-aa22-ca600cc5c9db",
   "metadata": {},
   "source": [
    "# Data Science Tools and Ecosystem"
   ]
  },
  {
   "cell_type": "markdown",
   "id": "68cccea5-ad82-451d-b6c5-be82b7756bb7",
   "metadata": {},
   "source": [
    "### In this notebook, Data Science Tools and Ecosystems are summarized."
   ]
  },
  {
   "cell_type": "markdown",
   "id": "005eecc9-0ba5-4ea4-875f-a6de1f584c22",
   "metadata": {},
   "source": [
    "**Objectives:**\n",
    "* List popular Data Science languages\n",
    "* List common Data Science libraries\n",
    "* List common Data Science Tools\n",
    "* Create an arithmetic expression"
   ]
  },
  {
   "cell_type": "markdown",
   "id": "b8ea3a9a-8fbc-44f1-9868-1bf60aa3b75d",
   "metadata": {},
   "source": [
    "#### Some of the popular languages data scientists use are:\n",
    "1. Python\n",
    "2. R\n",
    "3. SQL\n",
    "4. Java\n",
    "5. Julia\n",
    "6. C / C++\n",
    "7. JavaScript"
   ]
  },
  {
   "cell_type": "markdown",
   "id": "654c58b7-ceeb-4140-a53d-38ce8a727d39",
   "metadata": {},
   "source": [
    "#### Some of the commonly used libaries used by Data Scientists include:\n",
    "1. NumPy\n",
    "2. Pandas\n",
    "3. SciPy\n",
    "4. Matplotlib\n",
    "5. TensorFlow\n",
    "6. SciKit"
   ]
  },
  {
   "cell_type": "markdown",
   "id": "e83ef565-48d0-412a-9de3-0d520965b8b6",
   "metadata": {},
   "source": [
    "| Data Science Tools |\n",
    "----------------------\n",
    "| Atom |\n",
    "| Azure |\n",
    "| Cloud 9 |"
   ]
  },
  {
   "cell_type": "markdown",
   "id": "81470e49-966f-4a30-86eb-2590bb0d12c4",
   "metadata": {},
   "source": [
    "### Below are a few examples of evaluating arithmetic expressions in Python"
   ]
  },
  {
   "cell_type": "code",
   "execution_count": 5,
   "id": "d5c216fe-4a08-4368-bd32-c00a1735b7bd",
   "metadata": {},
   "outputs": [
    {
     "name": "stdout",
     "output_type": "stream",
     "text": [
      "17\n"
     ]
    }
   ],
   "source": [
    "# This is a simple arithmetic expression to multiply then add integers\n",
    "x = (3*4)+5\n",
    "print(x)"
   ]
  },
  {
   "cell_type": "code",
   "execution_count": 6,
   "id": "4f067ec6-c7c1-47a4-907c-1c19e1054679",
   "metadata": {},
   "outputs": [
    {
     "name": "stdout",
     "output_type": "stream",
     "text": [
      "3.3333333333333335\n"
     ]
    }
   ],
   "source": [
    "# This will convert 200 minutes to hours by dividing by 60\n",
    "minutes = 200\n",
    "hours = minutes / 60\n",
    "print(hours)"
   ]
  },
  {
   "cell_type": "markdown",
   "id": "9a21a049-cae8-4951-b739-abd530fd2360",
   "metadata": {},
   "source": [
    "## Author\n",
    "Joel Lee"
   ]
  },
  {
   "cell_type": "code",
   "execution_count": null,
   "id": "2491b7b4-b843-4125-bb84-ed4c73e06dd0",
   "metadata": {},
   "outputs": [],
   "source": []
  }
 ],
 "metadata": {
  "kernelspec": {
   "display_name": "Python 3 (ipykernel)",
   "language": "python",
   "name": "python3"
  },
  "language_info": {
   "codemirror_mode": {
    "name": "ipython",
    "version": 3
   },
   "file_extension": ".py",
   "mimetype": "text/x-python",
   "name": "python",
   "nbconvert_exporter": "python",
   "pygments_lexer": "ipython3",
   "version": "3.10.9"
  }
 },
 "nbformat": 4,
 "nbformat_minor": 5
}
